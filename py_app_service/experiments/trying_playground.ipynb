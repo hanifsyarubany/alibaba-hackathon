{
 "cells": [
  {
   "cell_type": "code",
   "execution_count": 1,
   "metadata": {},
   "outputs": [],
   "source": [
    "# # Refer to the document for workspace information: https://www.alibabacloud.com/help/en/model-studio/developer-reference/model-calling-in-sub-workspace    \n",
    "        \n",
    "# from http import HTTPStatus\n",
    "# import dashscope\n",
    "\n",
    "# api_key = \"sk-b822fa1ff97741f7ac290063f3433700\"\n",
    "\n",
    "# dashscope.base_http_api_url = 'https://dashscope-intl.aliyuncs.com/api/v1'\n",
    "# dashscope.api_key = api_key\n",
    "\n",
    "# def call_with_stream():\n",
    "#     messages = [\n",
    "#         {'role': 'user', 'content': 'Introduce the capital of China'}]\n",
    "#     responses = dashscope.Generation.call(\"qwen-max\",\n",
    "#                                 messages=messages,\n",
    "#                                 result_format='message',  # set the result to be \"message\"  format.\n",
    "#                                 stream=True, # set streaming output\n",
    "#                                 incremental_output=True  # get streaming output incrementally\n",
    "#                                 )\n",
    "#     for response in responses:\n",
    "#         if response.status_code == HTTPStatus.OK:\n",
    "#             print(response.output.choices[0]['message']['content'],end='')\n",
    "#         else:\n",
    "#             print('Request id: %s, Status code: %s, error code: %s, error message: %s' % (\n",
    "#                 response.request_id, response.status_code,\n",
    "#                 response.code, response.message\n",
    "#             ))\n",
    "\n",
    "\n",
    "# if __name__ == '__main__':\n",
    "#     call_with_stream()"
   ]
  },
  {
   "cell_type": "markdown",
   "metadata": {},
   "source": [
    "# Libarary"
   ]
  },
  {
   "cell_type": "code",
   "execution_count": 2,
   "metadata": {},
   "outputs": [],
   "source": [
    "from http import HTTPStatus\n",
    "import dashscope\n",
    "import time"
   ]
  },
  {
   "cell_type": "markdown",
   "metadata": {},
   "source": [
    "# Setup"
   ]
  },
  {
   "cell_type": "code",
   "execution_count": 3,
   "metadata": {},
   "outputs": [],
   "source": [
    "api_key = \"sk-b822fa1ff97741f7ac290063f3433700\"\n",
    "dashscope.base_http_api_url = 'https://dashscope-intl.aliyuncs.com/api/v1'\n",
    "dashscope.api_key = api_key\n",
    "\n",
    "def generate_completion(system_prompt, user_prompt):\n",
    "    messages=[\n",
    "            {\"role\": \"system\", \"content\": system_prompt},\n",
    "            {\"role\": \"user\", \"content\": user_prompt},\n",
    "        ]\n",
    "    responses = dashscope.Generation.call(\"qwen-max\",\n",
    "                                messages=messages,\n",
    "                                result_format='message',  # set the result to be \"message\"  format.\n",
    "                                stream=True, # set streaming output\n",
    "                                incremental_output=True  # get streaming output incrementally\n",
    "                                )\n",
    "    text = \"\"\n",
    "    for response in responses:\n",
    "        if response.status_code == HTTPStatus.OK:\n",
    "            text += (response.output.choices[0]['message']['content'])\n",
    "        else:\n",
    "            print('Request id: %s, Status code: %s, error code: %s, error message: %s' % (\n",
    "                response.request_id, response.status_code,\n",
    "                response.code, response.message\n",
    "            ))\n",
    "    \n",
    "    return text"
   ]
  },
  {
   "cell_type": "code",
   "execution_count": 4,
   "metadata": {},
   "outputs": [],
   "source": [
    "class PromptReplacer:\n",
    "    def __init__(self, template):\n",
    "        self.template = template\n",
    "\n",
    "    def replace_entities(self, replacements):\n",
    "        updated_template = self.template\n",
    "        for key, value in replacements.items():\n",
    "            updated_template = updated_template.replace(key, value)\n",
    "        return updated_template"
   ]
  },
  {
   "cell_type": "code",
   "execution_count": 5,
   "metadata": {},
   "outputs": [],
   "source": [
    "system_prompt = \"\"\"\n",
    "Given a context and question in Bahasa (Indonesian Language). You need to answer a question based on the given context.\n",
    "\"\"\"\n",
    "user_prompt = \"\"\"\n",
    "### CONTEXT: Jakarta dan Bandung adalah ibukota Indonesia\n",
    "### QUESTION: apa ibu kota dari Indonesia\n",
    "\"\"\""
   ]
  },
  {
   "cell_type": "code",
   "execution_count": 6,
   "metadata": {},
   "outputs": [
    {
     "data": {
      "text/plain": [
       "'Jakarta dan Bandung'"
      ]
     },
     "execution_count": 6,
     "metadata": {},
     "output_type": "execute_result"
    }
   ],
   "source": [
    "generate_completion(system_prompt, user_prompt)"
   ]
  },
  {
   "cell_type": "markdown",
   "metadata": {},
   "source": [
    "# INPUT"
   ]
  },
  {
   "cell_type": "code",
   "execution_count": 7,
   "metadata": {},
   "outputs": [],
   "source": [
    "session_id = \"1a\""
   ]
  },
  {
   "cell_type": "code",
   "execution_count": 8,
   "metadata": {},
   "outputs": [],
   "source": [
    "payload_form = {\n",
    "    \"informasi_bisnis_dasar\":{\n",
    "        \"nama_usaha\": \"Seni pahat & Anyaman Rotan \\'Meka Rasa\\'\",\n",
    "        \"lokasi_usaha\": \"Desa Sukamaju, Kab. Sukabumi, Jawa Barat\",\n",
    "        \"jenis_produk\": \"Anyaman Rotan untuk mebel dan furnitur (kursi, meja, rak), seni pahat kayu (patung, hiasan dinding)\",\n",
    "        \"skala_usaha\": \"Usaha mikro (1-5 karyawan)\",\n",
    "        \"standar_kualitas_produk\":\"Rendah (belum ada tim pengontrol kualitas)\"\n",
    "    },\n",
    "    \"informasi_pasar_dan_penjualan\":{\n",
    "        \"target_pasar\": \"lokal\",\n",
    "        \"profil_pelanggan\": \"Usia 35-60 tahun, kalangan menengah ke bawah, sering membeli produk murah untuk keperluan rumah tangga atau sebagai hadiah.\",\n",
    "        \"jangkauan_pemasaran\":\"Saya jualannya deket dari desa saya aja, ke tetangga tetangga terdekat biasanya yang beli\",\n",
    "        \"saluran_penjualan_saat_ini\":\"Penjualan Langsung (Pasar Lokal), Toko Fisik\",\n",
    "        \"volume_penjualan_bulanan\": \"IDR 7.500.000\"\n",
    "    },\n",
    "    \"informasi_keuangan\":{\n",
    "        \"pendapatan_tahunan\":\"IDR 90.000.000\",\n",
    "        \"sumber_modal\":\"Pinjaman dari keluarga\"\n",
    "    },\n",
    "    \"informasi_keluhan_atau_hambatan\":{\n",
    "        \"hambatan_utama_yang_dihadapi\":\"Penjualan yang terus menurun akibat berkurangnya minat pasar, meningkatnya persaingan dengan produk impor murah, dan biaya bahan baku yang terus naik. Usaha ini terancam gulung tikar dalam beberapa bulan jika kondisi tidak membaik.\"\n",
    "    }\n",
    "}"
   ]
  },
  {
   "cell_type": "markdown",
   "metadata": {},
   "source": [
    "# Detail Infographic"
   ]
  },
  {
   "cell_type": "markdown",
   "metadata": {},
   "source": [
    "### Prompt Template"
   ]
  },
  {
   "cell_type": "code",
   "execution_count": 9,
   "metadata": {},
   "outputs": [],
   "source": [
    "# PROMPT TEMPLATE: for generating summary\n",
    "system_prompt_overview_1st = \"\"\"\n",
    "You need to tell the user, what's wrong with his/her business. \n",
    "Given data comprises of his specific business, location, and his complaint in bahasa (Indonesian language).\n",
    "Based on the information provided, please response in bahasa to answer why his business is declining.\n",
    "please response in as concise as possible with a maximum 3 sentences. \n",
    "\"\"\"\n",
    "user_prompt_overview_1st = \"\"\"\n",
    "### Business: <<nama_usaha>>\n",
    "### Location: <<lokasi_usaha>>\n",
    "### Complaint: <<hambatan_utama>>\n",
    "### ANSWER: \n",
    "\"\"\"\n",
    "# PROMPT TEMPLATE: for generating suggestion\n",
    "system_prompt_overview_2nd = \"\"\"\n",
    "You need to tell the user, what's wrong with his/her business. \n",
    "Given data comprises of his specific business, location, and his complaint in bahasa (Indonesian language).\n",
    "Based on the information provided, please response in bahasa to answer what he should do. Give him a quick suggestion like expanding and scaling the market or something.\n",
    "please response in as concise as possible with a maximum 2 sentences. \n",
    "\"\"\"\n",
    "user_prompt_overview_2nd = \"\"\"\n",
    "### Business: <<nama_usaha>>\n",
    "### Location: <<lokasi_usaha>>\n",
    "### Complaint: <<hambatan_utama>>\n",
    "### ANSWER: \n",
    "\"\"\""
   ]
  },
  {
   "cell_type": "markdown",
   "metadata": {},
   "source": [
    "### Function"
   ]
  },
  {
   "cell_type": "code",
   "execution_count": 10,
   "metadata": {},
   "outputs": [],
   "source": [
    "def overview_builder(session_id, payload_form):\n",
    "    # generate summary\n",
    "    summary = generate_completion(system_prompt_overview_1st, PromptReplacer(user_prompt_overview_1st).replace_entities({\n",
    "    \"<<nama_usaha>>\":payload_form[\"informasi_bisnis_dasar\"][\"nama_usaha\"],\n",
    "    \"<<lokasi_usaha>>\":payload_form[\"informasi_bisnis_dasar\"][\"lokasi_usaha\"],\n",
    "    \"<<hambatan_utama>>\":payload_form[\"informasi_keluhan_atau_hambatan\"][\"hambatan_utama_yang_dihadapi\"]}))\n",
    "    time.sleep(1)\n",
    "    # generate suggestion\n",
    "    suggestion = generate_completion(system_prompt_overview_2nd, PromptReplacer(user_prompt_overview_2nd).replace_entities({\n",
    "    \"<<nama_usaha>>\":payload_form[\"informasi_bisnis_dasar\"][\"nama_usaha\"],\n",
    "    \"<<lokasi_usaha>>\":payload_form[\"informasi_bisnis_dasar\"][\"lokasi_usaha\"],\n",
    "    \"<<hambatan_utama>>\":payload_form[\"informasi_keluhan_atau_hambatan\"][\"hambatan_utama_yang_dihadapi\"]}))\n",
    "    # generate payload\n",
    "    payload_output = {\n",
    "        \"session_id\":session_id,\n",
    "        \"module\":\"overview_builder\",\n",
    "        \"summary\": summary,\n",
    "        \"suggestion\":suggestion\n",
    "\n",
    "    }\n",
    "    # return output\n",
    "    time.sleep(2)\n",
    "    return payload_output"
   ]
  },
  {
   "cell_type": "markdown",
   "metadata": {},
   "source": [
    "### Output"
   ]
  },
  {
   "cell_type": "code",
   "execution_count": 11,
   "metadata": {},
   "outputs": [
    {
     "data": {
      "text/plain": [
       "{'session_id': '1a',\n",
       " 'module': 'overview_builder',\n",
       " 'summary': \"Penurunan penjualan di Seni Pahat & Anyaman Rotan 'Meka Rasa' disebabkan oleh kurangnya minat pasar, persaingan ketat dengan produk impor yang lebih murah, serta biaya bahan baku yang meningkat. Jika tidak ada perubahan strategi atau dukungan, usaha ini bisa menghadapi risiko tutup dalam beberapa bulan.\",\n",
       " 'suggestion': 'Untuk mengatasi masalah ini, segera diversifikasi produk dan jualan online, gunakan strategi pemasaran kreatif, dan coba cari bahan baku alternatif dengan harga lebih terjangkau untuk tetap bersaing. Jangan lupa juga untuk mengembangkan kolaborasi dengan pelaku industri lain untuk mengakses pasar baru.'}"
      ]
     },
     "execution_count": 11,
     "metadata": {},
     "output_type": "execute_result"
    }
   ],
   "source": [
    "overview_builder(session_id, payload_form)"
   ]
  },
  {
   "cell_type": "markdown",
   "metadata": {},
   "source": [
    "# Market Expansion Opportunities"
   ]
  },
  {
   "cell_type": "markdown",
   "metadata": {},
   "source": [
    "### Prompt Template"
   ]
  },
  {
   "cell_type": "code",
   "execution_count": 12,
   "metadata": {},
   "outputs": [],
   "source": [
    "# PROMPT TEMPLATE: for generating strength potential\n",
    "system_prompt_expansion_1st = \"\"\"\n",
    "Given information of the small medium business in bahasa (indonesian language). \n",
    "Based on the information you need to assess 6 metrics:\n",
    "Production capacity, Business size, Quality standard, Logistic networks, Cultural value, Futuristic value. \n",
    "\n",
    "If the product contain art or creativity or furniture use, then you should give very high score in cultural value and futuristic value.\n",
    "\n",
    "Please assess those 6 metrics and answer in a scale of 0-100. \n",
    "Please format your answer like this example:\n",
    "50|||20|||33|||55|||45|||70\n",
    "\"\"\"\n",
    "user_prompt_expansion_1st = \"\"\"\n",
    "### Business: <<nama_usaha>>\n",
    "### Product: <<jenis_produk>>\n",
    "### Product Quality Standard: <<standar_kualitas_produk>>\n",
    "### Business Scale: <<skala_usaha>>\n",
    "### Target Market: <<target_pasar>>\n",
    "### Marketing Outreach: <<jangkauan_pemasaran>>\n",
    "### Current Sales Channels: <<saluran_penjualan_saat_ini>>\n",
    "### ANSWER: \n",
    "\"\"\"\n",
    "\n",
    "\n",
    "# PROMPT TEMPLATE: for generating insight\n",
    "system_prompt_expansion_2nd = \"\"\"\n",
    "Given an information in bahasa (indonesian language) comprises of business and product details as well as a radar chart information in a scale of 0-100. \n",
    "\n",
    "Please give a quick insight referring to the radar chart. and also in the insight, please give what is the probability to grow. \n",
    "Please response in bahasa in a maximum of 2 sentences\n",
    "\"\"\"\n",
    "user_prompt_expansion_2nd = \"\"\"\n",
    "### Business: <<nama_usaha>>\n",
    "### Product: <<jenis_produk>>\n",
    "### Radar Chart:\n",
    "Kapasitas produksi: <<kapasitas_produksi>>\n",
    "Ukuran Bisnis: <<ukuran_bisnis>>\n",
    "Standar Kualitas: <<standar_kualitas>>\n",
    "Jaringan Logistik: <<jaringan_logistik>>\n",
    "Nilai Budaya: <<nilai_budaya>>\n",
    "Nilai Futuristik: <<nilai_futuristik>>\n",
    "\n",
    "### ANSWER: \n",
    "\"\"\"\n",
    "\n",
    "# PROMPT TEMPLATE: for generating maket size estimation small\n",
    "system_prompt_expansion_3rd = \"\"\"\n",
    "Given an information in bahasa (indonesian language) comprises of business and product details.\n",
    "Other than that, there is a specific location of his/her business in Indonesia (rural areas).\n",
    "Firstly, based on the location of his/her business, you need to search the near location, at least 4 (terdiri dari daerah kecamatan dan perkotaan), \n",
    "that has high potential demand of his/her business and product.\n",
    "\n",
    "After that you need to calculate the market size potential in IDR in billion (or milyar in bahasa).\n",
    "\n",
    "Please follow this example format to answer:\n",
    "\n",
    "# Example 1:\n",
    "Kecamatan Weru---10.8|||Kecamatan Cisalak---8.8|||Kecamatn Coblong---12.5|||Kota Cirebon---86.5\n",
    "\"\"\"\n",
    "user_prompt_expansion_3rd= \"\"\"\n",
    "### Business: <<nama_usaha>>\n",
    "### Product: <<jenis_produk>>\n",
    "### Location: <<lokasi_usaha>>\n",
    "### ANSWER: \n",
    "\"\"\"\n",
    "\n",
    "# PROMPT TEMPLATE: for generating maket size estimation big\n",
    "system_prompt_expansion_4th = \"\"\"\n",
    "Given an information in bahasa (indonesian language) comprises of business and product details.\n",
    "His/her business operates in indonesia.\n",
    "Firstly, you need to search the location of outside indonesia (overseas countries), at least 4 countries, \n",
    "that has high potential demand of his/her business and product.\n",
    "\n",
    "After that you need to calculate the market size potential in IDR in billion (or milyar in bahasa).\n",
    "\n",
    "Please follow this example format to answer:\n",
    "\n",
    "# Example 1:\n",
    "Peru---10.8|||Malaysia---8.8|||Netherland---12.5|||French---86.5\n",
    "\"\"\"\n",
    "user_prompt_expansion_4th = \"\"\"\n",
    "### Business: <<nama_usaha>>\n",
    "### Product: <<jenis_produk>>\n",
    "### ANSWER: \n",
    "\"\"\"\n",
    "\n",
    "# PROMPT TEMPLATE: for generating maket size estimation small insight\n",
    "system_prompt_expansion_5th = \"\"\"\n",
    "Given an information in bahasa (indonesian language) comprises of business and product details of the users as well as a bar chart containing value of market size in Billion IDR (billion rupiah) \n",
    "\n",
    "Please give a quick insight referring to the bar chart. \n",
    "Firtly, you just need to take a look only at the bar chart which has the biggest value. (only 1 location)\n",
    "After that, you need to give a quick insight on why do you think that location has very high demand in terms of the users' business product.\n",
    "\n",
    "Please response in bahasa in a maximum of 2 sentences\n",
    "\"\"\"\n",
    "user_prompt_expansion_5th = \"\"\"\n",
    "### Business: <<nama_usaha>>\n",
    "### Product: <<jenis_produk>>\n",
    "### Bar Chart:\n",
    "<<bar_chart>>\n",
    "### ANSWER: \n",
    "\"\"\"\n",
    "\n",
    "# PROMPT TEMPLATE: for generating maket size estimation big insight\n",
    "system_prompt_expansion_6th = \"\"\"\n",
    "Given an information in bahasa (indonesian language) comprises of business and product details of the users as well as a bar chart containing value of market size in Billion IDR (billion rupiah) \n",
    "\n",
    "Please give a quick insight referring to the bar chart. \n",
    "Firtly, you just need to take a look only at the bar chart which has the biggest value. (only 1 location of country)\n",
    "After that, you need to give a quick insight on why do you think that location has very high demand in terms of the users' business product.\n",
    "\n",
    "Please response in bahasa in a maximum of 2 sentences\n",
    "\"\"\"\n",
    "user_prompt_expansion_6th = \"\"\"\n",
    "### Business: <<nama_usaha>>\n",
    "### Product: <<jenis_produk>>\n",
    "### Bar Chart:\n",
    "<<bar_chart>>\n",
    "### ANSWER: \n",
    "\"\"\""
   ]
  },
  {
   "cell_type": "markdown",
   "metadata": {},
   "source": [
    "### Function"
   ]
  },
  {
   "cell_type": "code",
   "execution_count": 13,
   "metadata": {},
   "outputs": [],
   "source": [
    "def market_expansion_opportunities(session_id, payload_form):\n",
    "    # generate strength potential\n",
    "    strength_potential = generate_completion(system_prompt_expansion_1st, PromptReplacer(user_prompt_expansion_1st).replace_entities({\n",
    "    \"<<nama_usaha>>\": payload_form[\"informasi_bisnis_dasar\"][\"nama_usaha\"],\n",
    "    \"<<jenis_produk>>\": payload_form[\"informasi_bisnis_dasar\"][\"jenis_produk\"],\n",
    "    \"<<standar_kualitas_produk>>\":payload_form[\"informasi_bisnis_dasar\"][\"standar_kualitas_produk\"],\n",
    "    \"<<skala_usaha>>\":payload_form[\"informasi_bisnis_dasar\"][\"skala_usaha\"],\n",
    "    \"<<target_pasar>>\":payload_form[\"informasi_pasar_dan_penjualan\"][\"target_pasar\"],\n",
    "    \"<<jangkauan_pemasaran>>\":payload_form[\"informasi_pasar_dan_penjualan\"][\"jangkauan_pemasaran\"],\n",
    "    \"<<saluran_penjualan_saat_ini>>\":payload_form[\"informasi_pasar_dan_penjualan\"][\"saluran_penjualan_saat_ini\"]\n",
    "    }))\n",
    "    # create dict_chart\n",
    "    arr_strength = strength_potential.split(\"|||\")\n",
    "    dict_chart = {\n",
    "        \"kapasitas_produksi\":arr_strength[0],\n",
    "        \"ukuran_bisnis\":arr_strength[1],\n",
    "        \"standar_kualitas\":arr_strength[2],\n",
    "        \"jaringan_logistik\":arr_strength[3],\n",
    "        \"nilai_budaya\":arr_strength[4],\n",
    "        \"nilai_futuristik\":arr_strength[5]\n",
    "    }\n",
    "    # generate insight\n",
    "    insight_strength_potential =  generate_completion(system_prompt_expansion_2nd, PromptReplacer(user_prompt_expansion_2nd).replace_entities({\n",
    "    \"<<nama_usaha>>\": payload_form[\"informasi_bisnis_dasar\"][\"nama_usaha\"],\n",
    "    \"<<jenis_produk>>\": payload_form[\"informasi_bisnis_dasar\"][\"jenis_produk\"],\n",
    "    \"<<kapasitas_produksi>>\":dict_chart[\"kapasitas_produksi\"],\n",
    "    \"<<ukuran_bisnis>>\":dict_chart[\"ukuran_bisnis\"],\n",
    "    \"<<standar_kualitas>>\":dict_chart[\"standar_kualitas\"],\n",
    "    \"<<jaringan_logistik>>\":dict_chart[\"jaringan_logistik\"],\n",
    "    \"<<nilai_budaya>>\":dict_chart[\"nilai_budaya\"],\n",
    "    \"<<nilai_futuristik>>\":dict_chart[\"nilai_futuristik\"]\n",
    "    }))\n",
    "    # generate market size small\n",
    "    market_size_small =  generate_completion(system_prompt_expansion_3rd, PromptReplacer(user_prompt_expansion_3rd).replace_entities({\n",
    "    \"<<nama_usaha>>\": payload_form[\"informasi_bisnis_dasar\"][\"nama_usaha\"],\n",
    "    \"<<jenis_produk>>\": payload_form[\"informasi_bisnis_dasar\"][\"jenis_produk\"],\n",
    "    \"<<lokasi_usaha>>\": payload_form[\"informasi_bisnis_dasar\"][\"lokasi_usaha\"]\n",
    "    }))\n",
    "    dict_market_size_small = {}\n",
    "    for i in market_size_small.split(\"|||\"):\n",
    "        key = i.split(\"---\")[0]\n",
    "        val = i.split(\"---\")[1]\n",
    "        dict_market_size_small[key]=val\n",
    "    # generate market size small insight\n",
    "    insight_small =  generate_completion(system_prompt_expansion_5th, PromptReplacer(user_prompt_expansion_5th).replace_entities({\n",
    "    \"<<nama_usaha>>\": payload_form[\"informasi_bisnis_dasar\"][\"nama_usaha\"],\n",
    "    \"<<jenis_produk>>\": payload_form[\"informasi_bisnis_dasar\"][\"jenis_produk\"],\n",
    "    \"<<bar_chart>>\": str(dict_market_size_small)\n",
    "    }))\n",
    "    # generate market size big\n",
    "    market_size_big =  generate_completion(system_prompt_expansion_4th, PromptReplacer(user_prompt_expansion_4th).replace_entities({\n",
    "    \"<<nama_usaha>>\": payload_form[\"informasi_bisnis_dasar\"][\"nama_usaha\"],\n",
    "    \"<<jenis_produk>>\": payload_form[\"informasi_bisnis_dasar\"][\"jenis_produk\"],\n",
    "    \"<<lokasi_usaha>>\": payload_form[\"informasi_bisnis_dasar\"][\"lokasi_usaha\"]\n",
    "    }))\n",
    "    dict_market_size_big = {}\n",
    "    for i in market_size_big.split(\"|||\"):\n",
    "        key = i.split(\"---\")[0]\n",
    "        val = i.split(\"---\")[1]\n",
    "        dict_market_size_big[key]=val\n",
    "    # generate market size big insight\n",
    "    insight_big =  generate_completion(system_prompt_expansion_6th, PromptReplacer(user_prompt_expansion_6th).replace_entities({\n",
    "    \"<<nama_usaha>>\": payload_form[\"informasi_bisnis_dasar\"][\"nama_usaha\"],\n",
    "    \"<<jenis_produk>>\": payload_form[\"informasi_bisnis_dasar\"][\"jenis_produk\"],\n",
    "    \"<<bar_chart>>\": str(dict_market_size_big)\n",
    "    }))\n",
    "    # generate payload\n",
    "    payload_output = {\n",
    "        \"session_id\":session_id,\n",
    "        \"module\":\"market expansion opportunities\",\n",
    "        \"strength_potential_chart\": dict_chart,\n",
    "        \"insight_strength_potential\":insight_strength_potential,\n",
    "        \"market_size_estimation_local\":dict_market_size_small,\n",
    "        \"market_size_estimation_local_insight\":insight_small,\n",
    "        \"market_size_estimation_international\":dict_market_size_big,\n",
    "        \"market_size_estimation_international_insight\":insight_big\n",
    "    }\n",
    "    # return output\n",
    "    time.sleep(2)\n",
    "    return payload_output"
   ]
  },
  {
   "cell_type": "markdown",
   "metadata": {},
   "source": [
    "### Output"
   ]
  },
  {
   "cell_type": "code",
   "execution_count": 14,
   "metadata": {},
   "outputs": [
    {
     "data": {
      "text/plain": [
       "{'session_id': '1a',\n",
       " 'module': 'market expansion opportunities',\n",
       " 'strength_potential_chart': {'kapasitas_produksi': '20',\n",
       "  'ukuran_bisnis': '20',\n",
       "  'standar_kualitas': '30',\n",
       "  'jaringan_logistik': '40',\n",
       "  'nilai_budaya': '90',\n",
       "  'nilai_futuristik': '60'},\n",
       " 'insight_strength_potential': \"Dari grafik radar, Anyaman Rotan 'Meka Rasa' memiliki keunggulan dalam nilai budaya yang tinggi (90), sementara kapasitas produksi, ukuran bisnis, dan standar kualitas masih memiliki ruang untuk peningkatan. Peluang pertumbuhan tinggi jika fokus pada meningkatkan kapasitas, kualitas, dan jaringan logistik, dengan mengcapitalisasi nilai budaya yang kuat untuk produk uniknya. Probabilitas pertumbuhan dapat meningkat sekitar 60%-70% dengan strategi yang tepat.\",\n",
       " 'market_size_estimation_local': {'Kecamatan Sukabumi': '9.2',\n",
       "  'Kecamatan Cikidang': '7.9',\n",
       "  'Kecamatan Cicurug': '10.5',\n",
       "  'Kota Sukabumi': '73.8'},\n",
       " 'market_size_estimation_local_insight': \"Kota Sukabumi memiliki nilai pasar terbesar sebesar 73,8 miliar rupiah. Hal ini dapat menunjukkan permintaan yang sangat tinggi bagi produk anyaman rotan dan seni pahat kayu 'Meka Rasa' karena kota ini mungkin merupakan pusat perdagangan dan konsumsi produk unik dengan daya beli yang tinggi.\",\n",
       " 'market_size_estimation_international': {'Singapura': '3.2',\n",
       "  'Australia': '5.9',\n",
       "  'Jepang': '9.7',\n",
       "  'Arab Saudi': '7.4'},\n",
       " 'market_size_estimation_international_insight': 'Dari diagram batang, terlihat bahwa Jepang memiliki nilai pasar terbesar sebesar 9,7 miliar IDR. Hal ini menunjukkan permintaan yang sangat tinggi untuk produk anyaman rotan dan seni pahat kayu di Jepang, mungkin karena penghargaiannya terhadap seni tradisional dan kualitas produk tangan yang unik seperti yang ditawarkan oleh \"Meka Rasa\".'}"
      ]
     },
     "execution_count": 14,
     "metadata": {},
     "output_type": "execute_result"
    }
   ],
   "source": [
    "market_expansion_opportunities(session_id, payload_form)"
   ]
  },
  {
   "cell_type": "markdown",
   "metadata": {},
   "source": [
    "# Go-to-market Strategy"
   ]
  },
  {
   "cell_type": "markdown",
   "metadata": {},
   "source": [
    "### Template"
   ]
  },
  {
   "cell_type": "code",
   "execution_count": 16,
   "metadata": {},
   "outputs": [],
   "source": [
    "# PROMPT TEMPLATE: for generating diferensiasi produk\n",
    "system_prompt_gtm_diferensiasi = \"\"\"\n",
    "Given an information in bahasa (indonesian language) comprises of the details of his business. \n",
    "He lives in rural areas and somehow he want to expand his business to thrive and compete. \n",
    "Please tell him how to make his business product unique (poduct differentiation).\n",
    "Please use `kamu` when referring to the user.\n",
    "Please response in a maximum of 2 sentences in bahasa (indonesian language)\n",
    "\"\"\"\n",
    "system_prompt_gtm = \"\"\"\n",
    "### Business: <<nama_usaha>>\n",
    "### Product: <<jenis_produk>>\n",
    "### Business Scale: <<skala_usaha>>\n",
    "### Customer Profile: <<profil_pelanggan>>\n",
    "### ANSWER: \n",
    "\"\"\"\n",
    "# PROMPT TEMPLATE: for generating strategi penetapan harga\n",
    "system_prompt_gtm_strategi = \"\"\"\n",
    "Given an information in bahasa (indonesian language) comprises of the details of his business. \n",
    "He lives in rural areas and somehow he want to expand his business to thrive and compete. \n",
    "Please tell him about the pricing strategy that he can implement.\n",
    "Please use `kamu` when referring to the user.\n",
    "Please response in a maximum of 2 sentences in bahasa (indonesian language)\n",
    "\"\"\"\n",
    "# PROMPT TEMPLATE: for generating saluran distibusi\n",
    "system_prompt_gtm_saluran = \"\"\"\n",
    "Given an information in bahasa (indonesian language) comprises of the details of his business. \n",
    "He lives in rural areas and somehow he want to expand his business to thrive and compete. \n",
    "Please tell him about the distribution channels (saluran distribusi) that he can implement (ex. using a combination of online e-commerce and offline).\n",
    "Please use `kamu` when referring to the user.\n",
    "Please response in a maximum of 2 sentences in bahasa (indonesian language)\n",
    "\"\"\"\n",
    "# PROMPT TEMPLATE: for generating pricing model\n",
    "system_prompt_gtm_pricing = \"\"\"\n",
    "Given an information in bahasa (indonesian language) comprises of the details of his business. \n",
    "He lives in rural areas and somehow he want to expand his business to thrive and compete. \n",
    "Please tell him about the value-based pricing model example that he can implement.\n",
    "Please set the price example. \n",
    "Please use `kamu` when referring to the user.\n",
    "Please response in a maximum of 2 sentences in bahasa (indonesian language)\n",
    "\"\"\"\n",
    "# PROMPT TEMPLATE: for milestone revenue\n",
    "system_prompt_gtm_revenue = \"\"\"\n",
    "Given an information in bahasa (indonesian language) comprises of the details of his business. \n",
    "He lives in rural areas and somehow he want to expand his business to thrive and compete.\n",
    "He want to scale up his business to penetrate national and international market.  \n",
    "\n",
    "Based on the information provided, \n",
    "Firstly, you need to calculate the potential revenue that he can capture in million IDR (juta rupiah) in 5 years.\n",
    "The first year should be the lowest, and it will grow exponentially. \n",
    "\n",
    "Please do calculation and answer in million IDR value\n",
    "\n",
    "You are only allowed to provide the answer using the format like this example:\n",
    "500|||1200|||2500|||5250|||10000\n",
    "\"\"\"\n",
    "# PROMPT TEMPLATE: for milestone formatting\n",
    "system_prompt_gtm_formatting = \"\"\"\n",
    "Given a text string. You need to find a pattern like this example:\n",
    "`500|||1200|||2500|||5250|||10000`\n",
    "\n",
    "Please find return that pattern-like string in your response\n",
    "\"\"\"\n",
    "user_prompt_gtm_formatting = \"\"\"\n",
    "### TEXT: <<text>>\n",
    "### ANSWER: \"\"\""
   ]
  },
  {
   "cell_type": "markdown",
   "metadata": {},
   "source": [
    "### Function"
   ]
  },
  {
   "cell_type": "code",
   "execution_count": 17,
   "metadata": {},
   "outputs": [],
   "source": [
    "def gtm_strategy(session_id, payload_form):\n",
    "    # Generate diferrensiasi\n",
    "    diferensiasi_produk  = generate_completion(system_prompt_gtm_diferensiasi, PromptReplacer(system_prompt_gtm).replace_entities({\n",
    "        \"<<nama_usaha>>\": payload_form[\"informasi_bisnis_dasar\"][\"nama_usaha\"],\n",
    "        \"<<jenis_produk>>\": payload_form[\"informasi_bisnis_dasar\"][\"jenis_produk\"],\n",
    "        \"<<skala_usaha>>\":payload_form[\"informasi_bisnis_dasar\"][\"skala_usaha\"],\n",
    "        \"<<profil_pelanggan>>\":payload_form[\"informasi_pasar_dan_penjualan\"][\"profil_pelanggan\"],\n",
    "    }))\n",
    "    # Generate strategi\n",
    "    strategi_penetapan_harga  = generate_completion(system_prompt_gtm_strategi, PromptReplacer(system_prompt_gtm).replace_entities({\n",
    "        \"<<nama_usaha>>\": payload_form[\"informasi_bisnis_dasar\"][\"nama_usaha\"],\n",
    "        \"<<jenis_produk>>\": payload_form[\"informasi_bisnis_dasar\"][\"jenis_produk\"],\n",
    "        \"<<skala_usaha>>\":payload_form[\"informasi_bisnis_dasar\"][\"skala_usaha\"],\n",
    "        \"<<profil_pelanggan>>\":payload_form[\"informasi_pasar_dan_penjualan\"][\"profil_pelanggan\"],\n",
    "    }))\n",
    "    # Generate saluran\n",
    "    saluran_distribusi  = generate_completion(system_prompt_gtm_saluran, PromptReplacer(system_prompt_gtm).replace_entities({\n",
    "        \"<<nama_usaha>>\": payload_form[\"informasi_bisnis_dasar\"][\"nama_usaha\"],\n",
    "        \"<<jenis_produk>>\": payload_form[\"informasi_bisnis_dasar\"][\"jenis_produk\"],\n",
    "        \"<<skala_usaha>>\":payload_form[\"informasi_bisnis_dasar\"][\"skala_usaha\"],\n",
    "        \"<<profil_pelanggan>>\":payload_form[\"informasi_pasar_dan_penjualan\"][\"profil_pelanggan\"],\n",
    "    }))\n",
    "    # Generate marketing\n",
    "    marketing_channel = \"E-commerce platforms, Social media commerce, retail partnerships, pop-up shops and events, direct-to-customer channels\"\n",
    "    # Generate pricing model\n",
    "    jenis_pricing_model = \"Value-Based Pricing\"\n",
    "    contoh_harga  = generate_completion(system_prompt_gtm_pricing, PromptReplacer(system_prompt_gtm).replace_entities({\n",
    "        \"<<nama_usaha>>\": payload_form[\"informasi_bisnis_dasar\"][\"nama_usaha\"],\n",
    "        \"<<jenis_produk>>\": payload_form[\"informasi_bisnis_dasar\"][\"jenis_produk\"],\n",
    "        \"<<skala_usaha>>\":payload_form[\"informasi_bisnis_dasar\"][\"skala_usaha\"],\n",
    "        \"<<profil_pelanggan>>\":payload_form[\"informasi_pasar_dan_penjualan\"][\"profil_pelanggan\"],\n",
    "    }))\n",
    "    # Generate Milestone\n",
    "    milestone = {\n",
    "        \"1\":(\"Foundation and Initial Market Penetration\",\"Penetrasi pasar lokal melalui e-commerce dan media sosial, partisipasi dalam pameran lokal\"),\n",
    "        \"2\":(\"Brand Building and Market Expansion\",\"Ekspansi ke kota-kota besar lainnya di Indonesia, memulai penetrasi pasar internasional secara terbatas (China dan AS)\"),\n",
    "        \"3\":(\"Scaling Operations and International Expansion\",\"Meningkatkan volume ekspor dan menjual di platform internasional, mengikuti pameran dagang internasional\"),\n",
    "        \"4\":(\"Market Leadership and Diversification\",\"Diversifikasi produk dan memperluas distribusi internasional, memperkuat posisi di segmen premium\"),\n",
    "        \"5\":(\"Consolidation and Innovation\",\"Konsolidasi dan inovasi produk, memperkuat brand positioning sebagai pemimpin pasar global di furnitur rotan tradisional.\")\n",
    "    }\n",
    "    # Generate market size timeline\n",
    "    revenue  = generate_completion(system_prompt_gtm_revenue, PromptReplacer(system_prompt_gtm).replace_entities({\n",
    "        \"<<nama_usaha>>\": payload_form[\"informasi_bisnis_dasar\"][\"nama_usaha\"],\n",
    "        \"<<jenis_produk>>\": payload_form[\"informasi_bisnis_dasar\"][\"jenis_produk\"],\n",
    "        \"<<skala_usaha>>\":payload_form[\"informasi_bisnis_dasar\"][\"skala_usaha\"],\n",
    "        \"<<profil_pelanggan>>\":payload_form[\"informasi_pasar_dan_penjualan\"][\"profil_pelanggan\"],\n",
    "    }))\n",
    "    revenue_string = generate_completion(system_prompt_gtm_formatting,user_prompt_gtm_formatting.replace(\"<<text>>\",revenue))\n",
    "    revenue_arr = revenue_string.split(\"\\n\")[-1].split(\"|||\")\n",
    "    market_size_timeline = {\n",
    "        \"1\":revenue_arr[0],\n",
    "        \"2\":revenue_arr[1],\n",
    "        \"3\":revenue_arr[2],\n",
    "        \"4\":revenue_arr[3],\n",
    "        \"5\":revenue_arr[4]\n",
    "    }\n",
    "    # generate payload\n",
    "    payload_output = {\n",
    "        \"session_id\":session_id,\n",
    "        \"module\":\"go-to-market strategy\",\n",
    "        \"strategy_panel\":{\n",
    "            \"diferensiasi_produk\": diferensiasi_produk,\n",
    "            \"strategi_penetapan_harga\":strategi_penetapan_harga,\n",
    "            \"saluran_distribusi\":saluran_distribusi,\n",
    "            \"marketing_channel\":marketing_channel\n",
    "        },\n",
    "        \"pricing_model_panel\":{\n",
    "            \"jenis_pricing_model\":jenis_pricing_model,\n",
    "            \"contoh_harga\":contoh_harga\n",
    "        },\n",
    "        \"milestone\":milestone,\n",
    "        \"market_size_timeline\":market_size_timeline\n",
    "    }\n",
    "    # return output\n",
    "    time.sleep(2)\n",
    "    return payload_output"
   ]
  },
  {
   "cell_type": "markdown",
   "metadata": {},
   "source": [
    "### Output"
   ]
  },
  {
   "cell_type": "code",
   "execution_count": 18,
   "metadata": {},
   "outputs": [
    {
     "data": {
      "text/plain": [
       "{'session_id': '1a',\n",
       " 'module': 'go-to-market strategy',\n",
       " 'strategy_panel': {'diferensiasi_produk': 'Kamu bisa membuat produk anyaman rotan dan seni pahatmu unik dengan menggabungkan elemen tradisional dengan desain modern. Ciptakan variasi warna dan bentuk yang menarik serta berikan sentuhan personal pada setiap produk, seperti nama pelanggan atau desain custom sesuai pesanan. Hal ini akan membedakan produkmu dari pesaing dan menarik minat pelanggan baru.',\n",
       "  'strategi_penetapan_harga': 'Kamu bisa gunakan strategi penetapan harga bersaing dengan menawarkan produk anyaman rotan dan seni pahat dengan harga yang kompetitif, namun tetap mengutamakan kualitas. Dengan adanya pelanggan setia, kamu bisa juga memberikan diskon loyalitas atau paket beli-banyak untuk menarik mereka membeli lebih banyak.',\n",
       "  'saluran_distribusi': 'Kamu bisa menggabungkan saluran distribusi online seperti e-commerce (misalnya Tokopedia, Shopee, Bukalapak) untuk mencapai pelanggan di luar daerahmu, serta menjaga toko fisik atau galeri seni lokal untuk mempertahankan pelanggan setia di sekitar kamupun mengadakan pameran seni atau pasar seni tradisional untuk meningkatkan penjualan.',\n",
       "  'marketing_channel': 'E-commerce platforms, Social media commerce, retail partnerships, pop-up shops and events, direct-to-customer channels'},\n",
       " 'pricing_model_panel': {'jenis_pricing_model': 'Value-Based Pricing',\n",
       "  'contoh_harga': 'Kamu bisa menerapkan model harga berbasis nilai dengan mengatur harga sesuai dengan keunikan dan kualitas karya seni pahat & anyaman rotanmu. Misalnya, untuk kursi anyaman rotan khas Meka Rasa yang unik dan tahan lama, kamu dapat menetapkan harga sekitar Rp 800.000,- hingga Rp 1.200.000,-. Hal ini menunjukkan bahwa produkmu memiliki nilai estetika dan fungsionalitas yang tinggi bagi pelangganmu.'},\n",
       " 'milestone': {'1': ('Foundation and Initial Market Penetration',\n",
       "   'Penetrasi pasar lokal melalui e-commerce dan media sosial, partisipasi dalam pameran lokal'),\n",
       "  '2': ('Brand Building and Market Expansion',\n",
       "   'Ekspansi ke kota-kota besar lainnya di Indonesia, memulai penetrasi pasar internasional secara terbatas (China dan AS)'),\n",
       "  '3': ('Scaling Operations and International Expansion',\n",
       "   'Meningkatkan volume ekspor dan menjual di platform internasional, mengikuti pameran dagang internasional'),\n",
       "  '4': ('Market Leadership and Diversification',\n",
       "   'Diversifikasi produk dan memperluas distribusi internasional, memperkuat posisi di segmen premium'),\n",
       "  '5': ('Consolidation and Innovation',\n",
       "   'Konsolidasi dan inovasi produk, memperkuat brand positioning sebagai pemimpin pasar global di furnitur rotan tradisional.')},\n",
       " 'market_size_timeline': {'1': '50',\n",
       "  '2': '75',\n",
       "  '3': '113',\n",
       "  '4': '169',\n",
       "  '5': '253'}}"
      ]
     },
     "execution_count": 18,
     "metadata": {},
     "output_type": "execute_result"
    }
   ],
   "source": [
    "gtm_strategy(session_id, payload_form)"
   ]
  }
 ],
 "metadata": {
  "kernelspec": {
   "display_name": "Python 3",
   "language": "python",
   "name": "python3"
  },
  "language_info": {
   "codemirror_mode": {
    "name": "ipython",
    "version": 3
   },
   "file_extension": ".py",
   "mimetype": "text/x-python",
   "name": "python",
   "nbconvert_exporter": "python",
   "pygments_lexer": "ipython3",
   "version": "3.12.0"
  }
 },
 "nbformat": 4,
 "nbformat_minor": 2
}
